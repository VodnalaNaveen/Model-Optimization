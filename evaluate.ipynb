{
 "cells": [
  {
   "cell_type": "code",
   "execution_count": 19,
   "id": "0f1f8a28-bc92-4418-a040-2553c84e9700",
   "metadata": {},
   "outputs": [],
   "source": [
    "import os\n",
    "os.environ['TF_ENABLE_ONEDNN_OPTS'] = '0'\n",
    "import tensorflow\n",
    "from tensorflow_model_optimization.python.core.keras.compat import keras\n",
    "import tensorflow_model_optimization as tfmot\n",
    "import pandas as pd\n",
    "from sklearn.cluster import KMeans\n",
    "import numpy as np\n",
    "from sklearn.preprocessing import LabelEncoder\n",
    "import time"
   ]
  },
  {
   "cell_type": "code",
   "execution_count": 2,
   "id": "0296b15d-4e0f-47ce-9456-94407145a1a7",
   "metadata": {},
   "outputs": [],
   "source": [
    "df = pd.read_csv(r\"C:\\Users\\vodna\\OneDrive\\Desktop\\inno\\DL\\compresed_model\\data.csv\")\n",
    "df.drop(columns = [\"Timestamp\",\"Email Address\"],axis=1,inplace=True)"
   ]
  },
  {
   "cell_type": "code",
   "execution_count": 3,
   "id": "f39e8a56-07c3-4462-baf4-075973a45cc1",
   "metadata": {},
   "outputs": [],
   "source": [
    "le = LabelEncoder()\n",
    "for column in df.columns:\n",
    "    le = le.fit(df[column])\n",
    "    df[column] = le.fit_transform(df[column])"
   ]
  },
  {
   "cell_type": "code",
   "execution_count": 4,
   "id": "b576e54c-4b8d-433d-9b0c-462567ff3359",
   "metadata": {},
   "outputs": [],
   "source": [
    "obj = KMeans(n_clusters=2,n_init=5).fit(df)\n",
    "clusters = obj.labels_\n",
    "df[\"labels\"] = clusters"
   ]
  },
  {
   "cell_type": "code",
   "execution_count": 5,
   "id": "40e4691b-8db9-490e-8e83-b4d042da047d",
   "metadata": {},
   "outputs": [],
   "source": [
    "data = df.drop(columns=\"labels\",axis=1)\n",
    "labels = df[\"labels\"] "
   ]
  },
  {
   "cell_type": "markdown",
   "id": "550d09dd-175e-4afb-adf6-67a45f3ba492",
   "metadata": {},
   "source": [
    "# Normal Model"
   ]
  },
  {
   "cell_type": "code",
   "execution_count": 6,
   "id": "ad0a1e17-d767-44f5-9039-9e63d088507f",
   "metadata": {},
   "outputs": [
    {
     "name": "stdout",
     "output_type": "stream",
     "text": [
      "WARNING:tensorflow:From c:\\Users\\vodna\\anaconda3\\envs\\compressed_model\\Lib\\site-packages\\tf_keras\\src\\backend.py:1400: The name tf.executing_eagerly_outside_functions is deprecated. Please use tf.compat.v1.executing_eagerly_outside_functions instead.\n",
      "\n",
      "time taken to load a normal model is 0.3999 seconds\n"
     ]
    }
   ],
   "source": [
    "start = time.time()\n",
    "normal_model = keras.models.load_model(r\"C:\\Users\\vodna\\OneDrive\\Desktop\\inno\\DL\\compresed_model\\normal.h5\")\n",
    "end = time.time()\n",
    "print(f\"time taken to load a normal model is {end-start:.4f} seconds\")"
   ]
  },
  {
   "cell_type": "code",
   "execution_count": 7,
   "id": "802d0a82",
   "metadata": {},
   "outputs": [
    {
     "data": {
      "text/plain": [
       "149"
      ]
     },
     "execution_count": 7,
     "metadata": {},
     "output_type": "execute_result"
    }
   ],
   "source": [
    "len(data)"
   ]
  },
  {
   "cell_type": "code",
   "execution_count": 8,
   "id": "b485f7ad-2c33-49b3-b7a1-61c9b15c8987",
   "metadata": {},
   "outputs": [
    {
     "name": "stdout",
     "output_type": "stream",
     "text": [
      "time taken to make a 149 prediction using normal_model is 10.1792 seconds\n",
      "accuracy for 149 prediction using normal_model is 0.9597\n",
      "loss for 149 prediction using normal_model is 0.2070 \n"
     ]
    }
   ],
   "source": [
    "a=int(input('Enter number of prediction'))\n",
    "c = 0\n",
    "time_taken = 0\n",
    "predicted_labels = []\n",
    "tot_loss=0\n",
    "for index in range(len(data)):\n",
    "    if c == a:\n",
    "        break\n",
    "    observation = data.loc[index]\n",
    "    observation = np.array(observation).reshape(1,-1)\n",
    "    start = time.time()\n",
    "    prediction = normal_model.predict(observation,verbose=0)\n",
    "    end = time.time()\n",
    "    t = end - start\n",
    "    time_taken += t\n",
    "    c += 1\n",
    "    if prediction[0][0] < 0.5:\n",
    "        predicted_labels.append(0)\n",
    "    else:\n",
    "        predicted_labels.append(1)\n",
    "    \n",
    "   \n",
    "    loss = -(labels[index]*np.log(prediction[0][0]) + (1-labels[index])*np.log(1-prediction[0][0]))\n",
    "    tot_loss += loss\n",
    "    \n",
    "predicted_labels = np.array(predicted_labels)\n",
    "true_labels = np.array(labels.loc[0:a-1])\n",
    "test_accuracy = (predicted_labels == true_labels).mean()\n",
    "\n",
    "\n",
    "\n",
    "print(f\"time taken to make a {a} prediction using normal_model is {time_taken:.4f} seconds\")\n",
    "print(f\"accuracy for {a} prediction using normal_model is {test_accuracy:.4f}\")\n",
    "print(f\"loss for {a} prediction using normal_model is {tot_loss/a:.4f} \")\n"
   ]
  },
  {
   "cell_type": "markdown",
   "id": "0d7c2374-64e1-4e43-9d14-23b05698a94c",
   "metadata": {},
   "source": [
    "# Compressed Model"
   ]
  },
  {
   "cell_type": "code",
   "execution_count": 9,
   "id": "e176a256-ae26-492c-be3d-d593ff4eb7e4",
   "metadata": {},
   "outputs": [
    {
     "name": "stdout",
     "output_type": "stream",
     "text": [
      "time taken to load a compressed model is 0.0022 seconds\n"
     ]
    },
    {
     "name": "stderr",
     "output_type": "stream",
     "text": [
      "c:\\Users\\vodna\\anaconda3\\envs\\compressed_model\\Lib\\site-packages\\tensorflow\\lite\\python\\interpreter.py:457: UserWarning:     Warning: tf.lite.Interpreter is deprecated and is scheduled for deletion in\n",
      "    TF 2.20. Please use the LiteRT interpreter from the ai_edge_litert package.\n",
      "    See the [migration guide](https://ai.google.dev/edge/litert/migration)\n",
      "    for details.\n",
      "    \n",
      "  warnings.warn(_INTERPRETER_DELETION_WARNING)\n"
     ]
    }
   ],
   "source": [
    "start = time.time()\n",
    "compressed_model = tensorflow.lite.Interpreter(model_path=r\"C:\\Users\\vodna\\OneDrive\\Desktop\\inno\\DL\\compresed_model\\normal_compressed.tflite\")\n",
    "end = time.time()\n",
    "print(f\"time taken to load a compressed model is {end-start:.4f} seconds\")\n"
   ]
  },
  {
   "cell_type": "code",
   "execution_count": 10,
   "id": "540cf3f4",
   "metadata": {},
   "outputs": [],
   "source": [
    "# allocate tensors to the model\n",
    "compressed_model.allocate_tensors()"
   ]
  },
  {
   "cell_type": "code",
   "execution_count": 11,
   "id": "122672db-55cc-4bcb-a473-ec335f529058",
   "metadata": {},
   "outputs": [],
   "source": [
    "input_tensor = compressed_model.get_input_details() #--> how to pass the data to the model\n",
    "output_tensor = compressed_model.get_output_details() #--> how to calucate the output from the model\n"
   ]
  },
  {
   "cell_type": "code",
   "execution_count": 13,
   "id": "2afa7824",
   "metadata": {},
   "outputs": [
    {
     "name": "stdout",
     "output_type": "stream",
     "text": [
      "time taken to make a 100 prediction using compressed_model is 0.0000 seconds\n",
      "accuracy for 100 prediction using compressed_model is 0.5168 \n",
      "loss for 100 prediction using compressed_model is 1.1449 \n"
     ]
    }
   ],
   "source": [
    "a=int(input('Enter number of prediction'))\n",
    "c = 0\n",
    "time_taken=0\n",
    "predicted_labels = []\n",
    "tot_loss=0\n",
    "for index in range(len(data)):\n",
    "    if c == a:\n",
    "        break\n",
    "    observation = data.loc[index].astype(np.float32)\n",
    "    observation = np.array(observation).reshape(1,-1)\n",
    "    start = time.time()\n",
    "    compressed_model.invoke() \n",
    "    compressed_model.set_tensor(input_tensor[0][\"index\"],observation)\n",
    "    output = compressed_model.get_tensor(output_tensor[0][\"index\"])\n",
    "    end = time.time()\n",
    "    t=end-start\n",
    "    time_taken+=t\n",
    "    if output[0][0] < 0.5:\n",
    "        predicted_labels.append(0)\n",
    "    else:\n",
    "        predicted_labels.append(1)\n",
    "    loss = -(labels[index]*np.log(output[0][0]) + (1-labels[index])*np.log(1-output[0][0]))\n",
    "    tot_loss += loss\n",
    "    c +=1\n",
    "predicted_labels = np.array(predicted_labels)\n",
    "true_labels = np.array(labels.loc[0:a-1])\n",
    "test_accuracy = (predicted_labels == true_labels)\n",
    "\n",
    "\n",
    "\n",
    "print(f\"time taken to make a 100 prediction using compressed_model is {time_taken:.4f} seconds\")\n",
    "print(f\"accuracy for 100 prediction using compressed_model is {test_accuracy.mean():.4f} \")\n",
    "print(f\"loss for 100 prediction using compressed_model is {tot_loss/a:.4f} \")"
   ]
  },
  {
   "cell_type": "markdown",
   "id": "9786a3a6-1d4a-470e-850c-7f6f389d5db1",
   "metadata": {},
   "source": [
    "# Compresssed + Quantized Model"
   ]
  },
  {
   "cell_type": "code",
   "execution_count": 14,
   "id": "691ebd18-43a0-4b5c-944c-a3404c96caa2",
   "metadata": {},
   "outputs": [
    {
     "name": "stdout",
     "output_type": "stream",
     "text": [
      "time taken to load a compressed model is 0.0026 seconds\n"
     ]
    },
    {
     "name": "stderr",
     "output_type": "stream",
     "text": [
      "c:\\Users\\vodna\\anaconda3\\envs\\compressed_model\\Lib\\site-packages\\tensorflow\\lite\\python\\interpreter.py:457: UserWarning:     Warning: tf.lite.Interpreter is deprecated and is scheduled for deletion in\n",
      "    TF 2.20. Please use the LiteRT interpreter from the ai_edge_litert package.\n",
      "    See the [migration guide](https://ai.google.dev/edge/litert/migration)\n",
      "    for details.\n",
      "    \n",
      "  warnings.warn(_INTERPRETER_DELETION_WARNING)\n"
     ]
    }
   ],
   "source": [
    "start = time.time()\n",
    "quantized_model = tensorflow.lite.Interpreter(model_path=r\"C:\\Users\\vodna\\OneDrive\\Desktop\\inno\\DL\\compresed_model\\normal_quantized_compressed.tflite\") \n",
    "end = time.time()\n",
    "print(f\"time taken to load a compressed model is {end-start:.4f} seconds\")\n"
   ]
  },
  {
   "cell_type": "code",
   "execution_count": 15,
   "id": "e16c68f3",
   "metadata": {},
   "outputs": [],
   "source": [
    "# allocate tensors to the model\n",
    "quantized_model.allocate_tensors()"
   ]
  },
  {
   "cell_type": "code",
   "execution_count": 16,
   "id": "950fd84a",
   "metadata": {},
   "outputs": [],
   "source": [
    "input_tensor = quantized_model.get_input_details() #--> how to pass the data to the model\n",
    "output_tensor = quantized_model.get_output_details() #--> how to calucate the output from the model\n"
   ]
  },
  {
   "cell_type": "code",
   "execution_count": 17,
   "id": "21dd4d7d",
   "metadata": {},
   "outputs": [
    {
     "name": "stdout",
     "output_type": "stream",
     "text": [
      "time taken to make a 149 prediction using quantized_model is 0.0010 seconds\n",
      "accuracy for 149 prediction using quantized_model is 0.6107 \n",
      "loss for 149 prediction using quantized_model is 0.6830 \n"
     ]
    }
   ],
   "source": [
    "a=int(input('Enter number of prediction'))\n",
    "c = 0\n",
    "time_taken=0\n",
    "predicted_labels = []\n",
    "tot_loss=0\n",
    "for index in range(len(data)):\n",
    "    if c == a:\n",
    "        break\n",
    "    observation = data.loc[index].astype(np.float32)\n",
    "    observation = np.array(observation).reshape(1,-1)\n",
    "    start = time.time()\n",
    "    quantized_model.invoke() \n",
    "    quantized_model.set_tensor(input_tensor[0][\"index\"],observation) \n",
    "    output = quantized_model.get_tensor(output_tensor[0][\"index\"])\n",
    "    end = time.time()\n",
    "    t=end-start\n",
    "    time_taken+=t\n",
    "    if output[0][0] < 0.5:\n",
    "        predicted_labels.append(0)\n",
    "    else:\n",
    "        predicted_labels.append(1)\n",
    "    loss = -(labels[index]*np.log(output[0][0]) + (1-labels[index])*np.log(1-output[0][0]))\n",
    "    tot_loss += loss\n",
    "    c +=1\n",
    "predicted_labels = np.array(predicted_labels)\n",
    "true_labels = np.array(labels.loc[0:a-1])\n",
    "test_accuracy = (predicted_labels == true_labels)\n",
    "\n",
    "\n",
    "\n",
    "print(f\"time taken to make a {a} prediction using quantized_model is {time_taken:.4f} seconds\")\n",
    "print(f\"accuracy for {a} prediction using quantized_model is {test_accuracy.mean():.4f} \")\n",
    "print(f\"loss for {a} prediction using quantized_model is {tot_loss/a:.4f} \")"
   ]
  },
  {
   "cell_type": "code",
   "execution_count": null,
   "id": "e3b60bba",
   "metadata": {},
   "outputs": [],
   "source": []
  }
 ],
 "metadata": {
  "kernelspec": {
   "display_name": "compressed_model",
   "language": "python",
   "name": "python3"
  },
  "language_info": {
   "codemirror_mode": {
    "name": "ipython",
    "version": 3
   },
   "file_extension": ".py",
   "mimetype": "text/x-python",
   "name": "python",
   "nbconvert_exporter": "python",
   "pygments_lexer": "ipython3",
   "version": "3.12.0"
  }
 },
 "nbformat": 4,
 "nbformat_minor": 5
}
